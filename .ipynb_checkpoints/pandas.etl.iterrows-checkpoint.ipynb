{
 "cells": [
  {
   "cell_type": "code",
   "execution_count": 1,
   "metadata": {},
   "outputs": [],
   "source": [
    "import pandas as pd\n",
    "import numpy as np"
   ]
  },
  {
   "cell_type": "code",
   "execution_count": 2,
   "metadata": {},
   "outputs": [],
   "source": [
    "technologies = ({\n",
    "    'Courses':[\"Spark\",\"PySpark\",\"Hadoop\",\"Python\",\"pandas\",\"Oracle\",\"Java\"],\n",
    "    'Fee' :[20000,25000,26000,22000,24000,21000,22000],\n",
    "    'Duration':['30day', '40days' ,'35days', '40days', '60days', '50days', '55days']\n",
    "              })\n",
    "df = pd.DataFrame(technologies)"
   ]
  },
  {
   "cell_type": "code",
   "execution_count": 3,
   "metadata": {},
   "outputs": [
    {
     "data": {
      "text/html": [
       "<div>\n",
       "<style scoped>\n",
       "    .dataframe tbody tr th:only-of-type {\n",
       "        vertical-align: middle;\n",
       "    }\n",
       "\n",
       "    .dataframe tbody tr th {\n",
       "        vertical-align: top;\n",
       "    }\n",
       "\n",
       "    .dataframe thead th {\n",
       "        text-align: right;\n",
       "    }\n",
       "</style>\n",
       "<table border=\"1\" class=\"dataframe\">\n",
       "  <thead>\n",
       "    <tr style=\"text-align: right;\">\n",
       "      <th></th>\n",
       "      <th>Courses</th>\n",
       "      <th>Fee</th>\n",
       "      <th>Duration</th>\n",
       "    </tr>\n",
       "  </thead>\n",
       "  <tbody>\n",
       "    <tr>\n",
       "      <th>0</th>\n",
       "      <td>Spark</td>\n",
       "      <td>20000</td>\n",
       "      <td>30day</td>\n",
       "    </tr>\n",
       "    <tr>\n",
       "      <th>1</th>\n",
       "      <td>PySpark</td>\n",
       "      <td>25000</td>\n",
       "      <td>40days</td>\n",
       "    </tr>\n",
       "    <tr>\n",
       "      <th>2</th>\n",
       "      <td>Hadoop</td>\n",
       "      <td>26000</td>\n",
       "      <td>35days</td>\n",
       "    </tr>\n",
       "    <tr>\n",
       "      <th>3</th>\n",
       "      <td>Python</td>\n",
       "      <td>22000</td>\n",
       "      <td>40days</td>\n",
       "    </tr>\n",
       "    <tr>\n",
       "      <th>4</th>\n",
       "      <td>pandas</td>\n",
       "      <td>24000</td>\n",
       "      <td>60days</td>\n",
       "    </tr>\n",
       "    <tr>\n",
       "      <th>5</th>\n",
       "      <td>Oracle</td>\n",
       "      <td>21000</td>\n",
       "      <td>50days</td>\n",
       "    </tr>\n",
       "    <tr>\n",
       "      <th>6</th>\n",
       "      <td>Java</td>\n",
       "      <td>22000</td>\n",
       "      <td>55days</td>\n",
       "    </tr>\n",
       "  </tbody>\n",
       "</table>\n",
       "</div>"
      ],
      "text/plain": [
       "   Courses    Fee Duration\n",
       "0    Spark  20000    30day\n",
       "1  PySpark  25000   40days\n",
       "2   Hadoop  26000   35days\n",
       "3   Python  22000   40days\n",
       "4   pandas  24000   60days\n",
       "5   Oracle  21000   50days\n",
       "6     Java  22000   55days"
      ]
     },
     "execution_count": 3,
     "metadata": {},
     "output_type": "execute_result"
    }
   ],
   "source": [
    "df"
   ]
  },
  {
   "cell_type": "code",
   "execution_count": 5,
   "metadata": {},
   "outputs": [
    {
     "name": "stdout",
     "output_type": "stream",
     "text": [
      "0 20000 Spark\n",
      "1 25000 PySpark\n",
      "2 26000 Hadoop\n",
      "3 22000 Python\n",
      "4 24000 pandas\n",
      "5 21000 Oracle\n",
      "6 22000 Java\n"
     ]
    }
   ],
   "source": [
    "for index, row in df.iterrows():\n",
    "    print(index, row['Fee'], row[\"Courses\"])"
   ]
  },
  {
   "cell_type": "code",
   "execution_count": 12,
   "metadata": {},
   "outputs": [
    {
     "name": "stdout",
     "output_type": "stream",
     "text": [
      "0 20000 Spark\n",
      "1 25000 PySpark\n",
      "2 26000 Hadoop\n",
      "3 22000 Python\n",
      "4 24000 pandas\n",
      "5 21000 Oracle\n",
      "6 22000 Java\n"
     ]
    }
   ],
   "source": [
    "# Iterate all rows using DataFrame.itertuples()\n",
    "for row in df.itertuples(index = True):\n",
    "    #print(row)\n",
    "    print(getattr(row,'Index'),getattr(row, 'Fee'), getattr(row, 'Courses'))"
   ]
  },
  {
   "cell_type": "code",
   "execution_count": 13,
   "metadata": {},
   "outputs": [],
   "source": [
    "row = next(df.itertuples(index=True, name='Tution'))"
   ]
  },
  {
   "cell_type": "code",
   "execution_count": 14,
   "metadata": {},
   "outputs": [
    {
     "name": "stdout",
     "output_type": "stream",
     "text": [
      "Tution(Index=0, Courses='Spark', Fee=20000, Duration='30day')\n"
     ]
    }
   ],
   "source": [
    "print(row)"
   ]
  },
  {
   "cell_type": "code",
   "execution_count": 16,
   "metadata": {},
   "outputs": [
    {
     "name": "stdout",
     "output_type": "stream",
     "text": [
      "20000 Spark\n",
      "25000 PySpark\n",
      "26000 Hadoop\n",
      "22000 Python\n",
      "24000 pandas\n",
      "21000 Oracle\n",
      "22000 Java\n"
     ]
    }
   ],
   "source": [
    "# using index\n",
    "for idx  in df.index:\n",
    "    print(df['Fee'][idx], df['Courses'][idx])"
   ]
  },
  {
   "cell_type": "code",
   "execution_count": 17,
   "metadata": {},
   "outputs": [
    {
     "name": "stdout",
     "output_type": "stream",
     "text": [
      "Spark 30day\n",
      "PySpark 40days\n",
      "Hadoop 35days\n",
      "Python 40days\n",
      "pandas 60days\n",
      "Oracle 50days\n",
      "Java 55days\n"
     ]
    }
   ],
   "source": [
    "#using iloc()\n",
    "for i in range(len(df)):\n",
    "    print(df.iloc[i,0], df.iloc[i,2])"
   ]
  },
  {
   "cell_type": "code",
   "execution_count": 23,
   "metadata": {},
   "outputs": [
    {
     "name": "stdout",
     "output_type": "stream",
     "text": [
      "label: Courses\n",
      "content: \n",
      "0      Spark\n",
      "1    PySpark\n",
      "2     Hadoop\n",
      "3     Python\n",
      "4     pandas\n",
      "5     Oracle\n",
      "6       Java\n",
      "Name: Courses, dtype: object\n",
      "\n",
      "\n",
      "label: Fee\n",
      "content: \n",
      "0    20000\n",
      "1    25000\n",
      "2    26000\n",
      "3    22000\n",
      "4    24000\n",
      "5    21000\n",
      "6    22000\n",
      "Name: Fee, dtype: int64\n",
      "\n",
      "\n",
      "label: Duration\n",
      "content: \n",
      "0     30day\n",
      "1    40days\n",
      "2    35days\n",
      "3    40days\n",
      "4    60days\n",
      "5    50days\n",
      "6    55days\n",
      "Name: Duration, dtype: object\n",
      "\n",
      "\n"
     ]
    }
   ],
   "source": [
    "for label, content in df.items():\n",
    "    print(f'label: {label}')\n",
    "    print(f'content: \\n{content}', sep='\\n')\n",
    "    print('\\n')"
   ]
  },
  {
   "cell_type": "code",
   "execution_count": null,
   "metadata": {},
   "outputs": [],
   "source": []
  }
 ],
 "metadata": {
  "kernelspec": {
   "display_name": "Python 3",
   "language": "python",
   "name": "python3"
  },
  "language_info": {
   "codemirror_mode": {
    "name": "ipython",
    "version": 3
   },
   "file_extension": ".py",
   "mimetype": "text/x-python",
   "name": "python",
   "nbconvert_exporter": "python",
   "pygments_lexer": "ipython3",
   "version": "3.8.3"
  }
 },
 "nbformat": 4,
 "nbformat_minor": 4
}
